{
 "cells": [
  {
   "cell_type": "code",
   "execution_count": 1,
   "id": "a510d108",
   "metadata": {},
   "outputs": [],
   "source": [
    "from pathlib import Path\n",
    "import os\n",
    "import sys\n",
    "\n",
    "# ensure project parent is first on PYTHONPATH\n",
    "sys.path.insert(0, str(Path.cwd().parent))\n",
    "\n",
    "from personal_llm import llm"
   ]
  },
  {
   "cell_type": "markdown",
   "id": "9ae814ac",
   "metadata": {},
   "source": [
    "## simple graph"
   ]
  },
  {
   "cell_type": "code",
   "execution_count": 2,
   "id": "0b5ea6cc",
   "metadata": {},
   "outputs": [],
   "source": [
    " # define state (schema) of the graph\n",
    "\n",
    "from typing_extensions import TypedDict\n",
    "\n",
    "class State(TypedDict):\n",
    "  graph_state: str\n",
    "\n",
    "\n",
    "# create some functions that will be used in the graph nodes\n",
    "# each node accepts the state as an argument and returns a new value of the state\n",
    "\n",
    "def node_1(state):\n",
    "  print(\"---Node 1 ---\")\n",
    "  return {\"graph state\": state['graph'] + \"Hello There!\"}\n",
    "\n",
    "def node_2(state):\n",
    "  print(\"---Node 2---\")\n",
    "  return{\"graph state\": state['graph'] + \"\\nGeneral Kenobi!\"}\n",
    "\n",
    "def node_3(state):\n",
    "  print(\"---Node 3---\")\n",
    "  return{\"graph state\": state['graph'] + \"\\nA new addition to my collection!\"}\n"
   ]
  },
  {
   "cell_type": "code",
   "execution_count": null,
   "id": "ba6b1bf1",
   "metadata": {},
   "outputs": [],
   "source": [
    "# connect the nodes with edges, this controls logic flow\n",
    "# agents use graphs for logic flow\n",
    "\n",
    "from IPython.display import Image, display\n",
    "from langgraph.graph import StateGraph, START, END\n",
    "\n",
    "# build graph\n",
    "builder = StateGraph(State)"
   ]
  }
 ],
 "metadata": {
  "kernelspec": {
   "display_name": ".venv",
   "language": "python",
   "name": "python3"
  },
  "language_info": {
   "codemirror_mode": {
    "name": "ipython",
    "version": 3
   },
   "file_extension": ".py",
   "mimetype": "text/x-python",
   "name": "python",
   "nbconvert_exporter": "python",
   "pygments_lexer": "ipython3",
   "version": "3.11.5"
  }
 },
 "nbformat": 4,
 "nbformat_minor": 5
}
